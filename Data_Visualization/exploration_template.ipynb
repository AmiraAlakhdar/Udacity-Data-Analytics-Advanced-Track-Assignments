{
 "cells": [
  {
   "cell_type": "markdown",
   "metadata": {},
   "source": [
    "# (Investigating the Philadelphia bikashare dataset for (2020 Q3))\n",
    "## by (Amira Alakhdar)\n",
    "\n",
    "## Preliminary Wrangling\n",
    "\n",
    "> The City of Philadelphia bikashare dataset (2020 Q3) has 15 columns as the following:\n",
    "\n",
    "- trip_id: Locally unique integer that identifies the trip\n",
    "- duration: Length of trip in minutes\n",
    "- start_time: The date/time when the trip began, presented in ISO 8601 format in local time\n",
    "- end_time: The date/time when the trip ended, presented in ISO 8601 format in local time\n",
    "- start_station: The station ID where the trip originated (for station name and more information on each station see the Station  Table)\n",
    "- start_lat: The latitude of the station where the trip originated\n",
    "- start_lon: The longitude of the station where the trip originated\n",
    "- end_station: The station ID where the trip terminated (for station name and more information on each station see the Station Table)\n",
    "- end_lat: The latitude of the station where the trip terminated\n",
    "- end_lon: The longitude of the station where the trip terminated\n",
    "- bike_id:  Locally unique integer that identifies the bike\n",
    "- plan_duration: The number of days that the plan the passholder is using entitles them to ride; 0 is used for a single ride plan (Walk-up)\n",
    "- trip_route_category: “Round Trip” for trips starting and ending at the same station or “One Way” for all other trips\n",
    "- passholder_type: The name of the passholder’s plan\n",
    "- bike_type: The kind of bike used on the trip, including standard pedal-powered bikes or electric assist bikes\n",
    "\n",
    "\n",
    "- Source: https://www.rideindego.com/about/data/"
   ]
  },
  {
   "cell_type": "code",
   "execution_count": 1,
   "metadata": {},
   "outputs": [],
   "source": [
    "# import all packages and set plots to be embedded inline\n",
    "import numpy as np\n",
    "import pandas as pd\n",
    "import matplotlib.pyplot as plt\n",
    "import seaborn as sb\n",
    "import requests\n",
    "%matplotlib inline"
   ]
  },
  {
   "cell_type": "markdown",
   "metadata": {},
   "source": [
    "> Load in your dataset and describe its properties through the questions below.\n",
    "Try and motivate your exploration goals through this section."
   ]
  },
  {
   "cell_type": "code",
   "execution_count": 2,
   "metadata": {},
   "outputs": [
    {
     "data": {
      "text/plain": [
       "4957342"
      ]
     },
     "execution_count": 2,
     "metadata": {},
     "output_type": "execute_result"
    }
   ],
   "source": [
    "url = 'https://u626n26h74f16ig1p3pt0f2g-wpengine.netdna-ssl.com/wp-content/uploads/2020/10/indego-trips-2020-q3.zip'\n",
    "r = requests.get(url, allow_redirects=True)\n",
    "open('indego-trips-2020-q3.zip', 'wb').write(r.content)"
   ]
  },
  {
   "cell_type": "code",
   "execution_count": 3,
   "metadata": {},
   "outputs": [],
   "source": [
    "import zipfile\n",
    "with zipfile.ZipFile('indego-trips-2020-q3.zip', 'r') as zip_ref:\n",
    "    zip_ref.extractall()"
   ]
  },
  {
   "cell_type": "code",
   "execution_count": 4,
   "metadata": {},
   "outputs": [
    {
     "name": "stderr",
     "output_type": "stream",
     "text": [
      "C:\\Users\\Laptop Shop\\anaconda3\\lib\\site-packages\\IPython\\core\\interactiveshell.py:3063: DtypeWarning: Columns (10) have mixed types.Specify dtype option on import or set low_memory=False.\n",
      "  interactivity=interactivity, compiler=compiler, result=result)\n"
     ]
    }
   ],
   "source": [
    "\n",
    "df = pd.read_csv('indego-trips-2020-q3.csv')"
   ]
  },
  {
   "cell_type": "code",
   "execution_count": 5,
   "metadata": {},
   "outputs": [
    {
     "name": "stdout",
     "output_type": "stream",
     "text": [
      "<class 'pandas.core.frame.DataFrame'>\n",
      "RangeIndex: 269985 entries, 0 to 269984\n",
      "Data columns (total 15 columns):\n",
      " #   Column               Non-Null Count   Dtype  \n",
      "---  ------               --------------   -----  \n",
      " 0   trip_id              269985 non-null  int64  \n",
      " 1   duration             269985 non-null  int64  \n",
      " 2   start_time           269985 non-null  object \n",
      " 3   end_time             269985 non-null  object \n",
      " 4   start_station        269985 non-null  int64  \n",
      " 5   start_lat            269983 non-null  float64\n",
      " 6   start_lon            269983 non-null  float64\n",
      " 7   end_station          269985 non-null  int64  \n",
      " 8   end_lat              264365 non-null  float64\n",
      " 9   end_lon              264365 non-null  float64\n",
      " 10  bike_id              269985 non-null  object \n",
      " 11  plan_duration        269985 non-null  int64  \n",
      " 12  trip_route_category  269985 non-null  object \n",
      " 13  passholder_type      269985 non-null  object \n",
      " 14  bike_type            269985 non-null  object \n",
      "dtypes: float64(4), int64(5), object(6)\n",
      "memory usage: 30.9+ MB\n"
     ]
    }
   ],
   "source": [
    "df.info()"
   ]
  },
  {
   "cell_type": "code",
   "execution_count": 6,
   "metadata": {},
   "outputs": [
    {
     "data": {
      "text/html": [
       "<div>\n",
       "<style scoped>\n",
       "    .dataframe tbody tr th:only-of-type {\n",
       "        vertical-align: middle;\n",
       "    }\n",
       "\n",
       "    .dataframe tbody tr th {\n",
       "        vertical-align: top;\n",
       "    }\n",
       "\n",
       "    .dataframe thead th {\n",
       "        text-align: right;\n",
       "    }\n",
       "</style>\n",
       "<table border=\"1\" class=\"dataframe\">\n",
       "  <thead>\n",
       "    <tr style=\"text-align: right;\">\n",
       "      <th></th>\n",
       "      <th>trip_id</th>\n",
       "      <th>duration</th>\n",
       "      <th>start_time</th>\n",
       "      <th>end_time</th>\n",
       "      <th>start_station</th>\n",
       "      <th>start_lat</th>\n",
       "      <th>start_lon</th>\n",
       "      <th>end_station</th>\n",
       "      <th>end_lat</th>\n",
       "      <th>end_lon</th>\n",
       "      <th>bike_id</th>\n",
       "      <th>plan_duration</th>\n",
       "      <th>trip_route_category</th>\n",
       "      <th>passholder_type</th>\n",
       "      <th>bike_type</th>\n",
       "    </tr>\n",
       "  </thead>\n",
       "  <tbody>\n",
       "    <tr>\n",
       "      <th>0</th>\n",
       "      <td>345127322</td>\n",
       "      <td>10</td>\n",
       "      <td>7/1/2020 0:03</td>\n",
       "      <td>7/1/2020 0:13</td>\n",
       "      <td>3021</td>\n",
       "      <td>39.953899</td>\n",
       "      <td>-75.169022</td>\n",
       "      <td>3051</td>\n",
       "      <td>39.967442</td>\n",
       "      <td>-75.175072</td>\n",
       "      <td>14512</td>\n",
       "      <td>365</td>\n",
       "      <td>One Way</td>\n",
       "      <td>Indego365</td>\n",
       "      <td>standard</td>\n",
       "    </tr>\n",
       "    <tr>\n",
       "      <th>1</th>\n",
       "      <td>345127320</td>\n",
       "      <td>112</td>\n",
       "      <td>7/1/2020 0:06</td>\n",
       "      <td>7/1/2020 1:58</td>\n",
       "      <td>3067</td>\n",
       "      <td>39.964111</td>\n",
       "      <td>-75.199730</td>\n",
       "      <td>3104</td>\n",
       "      <td>39.966640</td>\n",
       "      <td>-75.192093</td>\n",
       "      <td>19638</td>\n",
       "      <td>30</td>\n",
       "      <td>One Way</td>\n",
       "      <td>Indego30</td>\n",
       "      <td>electric</td>\n",
       "    </tr>\n",
       "    <tr>\n",
       "      <th>2</th>\n",
       "      <td>345127318</td>\n",
       "      <td>111</td>\n",
       "      <td>7/1/2020 0:07</td>\n",
       "      <td>7/1/2020 1:58</td>\n",
       "      <td>3067</td>\n",
       "      <td>39.964111</td>\n",
       "      <td>-75.199730</td>\n",
       "      <td>3104</td>\n",
       "      <td>39.966640</td>\n",
       "      <td>-75.192093</td>\n",
       "      <td>16566</td>\n",
       "      <td>30</td>\n",
       "      <td>One Way</td>\n",
       "      <td>Indego30</td>\n",
       "      <td>electric</td>\n",
       "    </tr>\n",
       "    <tr>\n",
       "      <th>3</th>\n",
       "      <td>345127315</td>\n",
       "      <td>3</td>\n",
       "      <td>7/1/2020 0:07</td>\n",
       "      <td>7/1/2020 0:10</td>\n",
       "      <td>3187</td>\n",
       "      <td>39.957249</td>\n",
       "      <td>-75.172318</td>\n",
       "      <td>3168</td>\n",
       "      <td>39.951340</td>\n",
       "      <td>-75.173943</td>\n",
       "      <td>14545</td>\n",
       "      <td>30</td>\n",
       "      <td>One Way</td>\n",
       "      <td>Indego30</td>\n",
       "      <td>standard</td>\n",
       "    </tr>\n",
       "    <tr>\n",
       "      <th>4</th>\n",
       "      <td>345127313</td>\n",
       "      <td>42</td>\n",
       "      <td>7/1/2020 0:08</td>\n",
       "      <td>7/1/2020 0:50</td>\n",
       "      <td>3056</td>\n",
       "      <td>39.976688</td>\n",
       "      <td>-75.158127</td>\n",
       "      <td>3017</td>\n",
       "      <td>39.980030</td>\n",
       "      <td>-75.143707</td>\n",
       "      <td>19835</td>\n",
       "      <td>1</td>\n",
       "      <td>One Way</td>\n",
       "      <td>Day Pass</td>\n",
       "      <td>electric</td>\n",
       "    </tr>\n",
       "  </tbody>\n",
       "</table>\n",
       "</div>"
      ],
      "text/plain": [
       "     trip_id  duration     start_time       end_time  start_station  \\\n",
       "0  345127322        10  7/1/2020 0:03  7/1/2020 0:13           3021   \n",
       "1  345127320       112  7/1/2020 0:06  7/1/2020 1:58           3067   \n",
       "2  345127318       111  7/1/2020 0:07  7/1/2020 1:58           3067   \n",
       "3  345127315         3  7/1/2020 0:07  7/1/2020 0:10           3187   \n",
       "4  345127313        42  7/1/2020 0:08  7/1/2020 0:50           3056   \n",
       "\n",
       "   start_lat  start_lon  end_station    end_lat    end_lon bike_id  \\\n",
       "0  39.953899 -75.169022         3051  39.967442 -75.175072   14512   \n",
       "1  39.964111 -75.199730         3104  39.966640 -75.192093   19638   \n",
       "2  39.964111 -75.199730         3104  39.966640 -75.192093   16566   \n",
       "3  39.957249 -75.172318         3168  39.951340 -75.173943   14545   \n",
       "4  39.976688 -75.158127         3017  39.980030 -75.143707   19835   \n",
       "\n",
       "   plan_duration trip_route_category passholder_type bike_type  \n",
       "0            365             One Way       Indego365  standard  \n",
       "1             30             One Way        Indego30  electric  \n",
       "2             30             One Way        Indego30  electric  \n",
       "3             30             One Way        Indego30  standard  \n",
       "4              1             One Way        Day Pass  electric  "
      ]
     },
     "execution_count": 6,
     "metadata": {},
     "output_type": "execute_result"
    }
   ],
   "source": [
    "df.head()"
   ]
  },
  {
   "cell_type": "code",
   "execution_count": 7,
   "metadata": {},
   "outputs": [
    {
     "data": {
      "text/plain": [
       "(269985, 15)"
      ]
     },
     "execution_count": 7,
     "metadata": {},
     "output_type": "execute_result"
    }
   ],
   "source": [
    "df.shape"
   ]
  },
  {
   "cell_type": "markdown",
   "metadata": {},
   "source": [
    "### What is the structure of your dataset?\n",
    "\n",
    "The data set has 269985 rows and 15 columns. \n",
    "\n",
    "### What is/are the main feature(s) of interest in your dataset?\n",
    "- When are most trips taken in terms of time of day, day of the week, or month of the year?\n",
    "- How long does the average trip take?\n",
    "- Does the duration depend on if a bike is a standard or electric?\n",
    "- Does the duration depend on passholder type?\n",
    "- Does the trip route category affect the duration?\n",
    "- What are the popular start and end locations? Do they change according to different variables?\n",
    "\n",
    "\n",
    "\n",
    "### What features in the dataset do you think will help support your investigation into your feature(s) of interest?\n",
    "start time, duration, bike_type, passholder_type and trip_route_category."
   ]
  },
  {
   "cell_type": "markdown",
   "metadata": {},
   "source": [
    "## Wrangling the data"
   ]
  },
  {
   "cell_type": "code",
   "execution_count": 8,
   "metadata": {
    "scrolled": true
   },
   "outputs": [
    {
     "data": {
      "text/html": [
       "<div>\n",
       "<style scoped>\n",
       "    .dataframe tbody tr th:only-of-type {\n",
       "        vertical-align: middle;\n",
       "    }\n",
       "\n",
       "    .dataframe tbody tr th {\n",
       "        vertical-align: top;\n",
       "    }\n",
       "\n",
       "    .dataframe thead th {\n",
       "        text-align: right;\n",
       "    }\n",
       "</style>\n",
       "<table border=\"1\" class=\"dataframe\">\n",
       "  <thead>\n",
       "    <tr style=\"text-align: right;\">\n",
       "      <th></th>\n",
       "      <th>trip_id</th>\n",
       "      <th>duration</th>\n",
       "      <th>start_time</th>\n",
       "      <th>end_time</th>\n",
       "      <th>start_station</th>\n",
       "      <th>start_lat</th>\n",
       "      <th>start_lon</th>\n",
       "      <th>end_station</th>\n",
       "      <th>end_lat</th>\n",
       "      <th>end_lon</th>\n",
       "      <th>bike_id</th>\n",
       "      <th>plan_duration</th>\n",
       "      <th>trip_route_category</th>\n",
       "      <th>passholder_type</th>\n",
       "      <th>bike_type</th>\n",
       "      <th>month</th>\n",
       "      <th>day_of_week</th>\n",
       "    </tr>\n",
       "  </thead>\n",
       "  <tbody>\n",
       "    <tr>\n",
       "      <th>0</th>\n",
       "      <td>345127322</td>\n",
       "      <td>10</td>\n",
       "      <td>2020-07-01 00:03:00</td>\n",
       "      <td>2020-07-01 00:13:00</td>\n",
       "      <td>3021</td>\n",
       "      <td>39.953899</td>\n",
       "      <td>-75.169022</td>\n",
       "      <td>3051</td>\n",
       "      <td>39.967442</td>\n",
       "      <td>-75.175072</td>\n",
       "      <td>14512</td>\n",
       "      <td>365</td>\n",
       "      <td>One Way</td>\n",
       "      <td>Indego365</td>\n",
       "      <td>standard</td>\n",
       "      <td>7</td>\n",
       "      <td>2</td>\n",
       "    </tr>\n",
       "    <tr>\n",
       "      <th>1</th>\n",
       "      <td>345127320</td>\n",
       "      <td>112</td>\n",
       "      <td>2020-07-01 00:06:00</td>\n",
       "      <td>2020-07-01 01:58:00</td>\n",
       "      <td>3067</td>\n",
       "      <td>39.964111</td>\n",
       "      <td>-75.199730</td>\n",
       "      <td>3104</td>\n",
       "      <td>39.966640</td>\n",
       "      <td>-75.192093</td>\n",
       "      <td>19638</td>\n",
       "      <td>30</td>\n",
       "      <td>One Way</td>\n",
       "      <td>Indego30</td>\n",
       "      <td>electric</td>\n",
       "      <td>7</td>\n",
       "      <td>2</td>\n",
       "    </tr>\n",
       "    <tr>\n",
       "      <th>2</th>\n",
       "      <td>345127318</td>\n",
       "      <td>111</td>\n",
       "      <td>2020-07-01 00:07:00</td>\n",
       "      <td>2020-07-01 01:58:00</td>\n",
       "      <td>3067</td>\n",
       "      <td>39.964111</td>\n",
       "      <td>-75.199730</td>\n",
       "      <td>3104</td>\n",
       "      <td>39.966640</td>\n",
       "      <td>-75.192093</td>\n",
       "      <td>16566</td>\n",
       "      <td>30</td>\n",
       "      <td>One Way</td>\n",
       "      <td>Indego30</td>\n",
       "      <td>electric</td>\n",
       "      <td>7</td>\n",
       "      <td>2</td>\n",
       "    </tr>\n",
       "    <tr>\n",
       "      <th>3</th>\n",
       "      <td>345127315</td>\n",
       "      <td>3</td>\n",
       "      <td>2020-07-01 00:07:00</td>\n",
       "      <td>2020-07-01 00:10:00</td>\n",
       "      <td>3187</td>\n",
       "      <td>39.957249</td>\n",
       "      <td>-75.172318</td>\n",
       "      <td>3168</td>\n",
       "      <td>39.951340</td>\n",
       "      <td>-75.173943</td>\n",
       "      <td>14545</td>\n",
       "      <td>30</td>\n",
       "      <td>One Way</td>\n",
       "      <td>Indego30</td>\n",
       "      <td>standard</td>\n",
       "      <td>7</td>\n",
       "      <td>2</td>\n",
       "    </tr>\n",
       "    <tr>\n",
       "      <th>4</th>\n",
       "      <td>345127313</td>\n",
       "      <td>42</td>\n",
       "      <td>2020-07-01 00:08:00</td>\n",
       "      <td>2020-07-01 00:50:00</td>\n",
       "      <td>3056</td>\n",
       "      <td>39.976688</td>\n",
       "      <td>-75.158127</td>\n",
       "      <td>3017</td>\n",
       "      <td>39.980030</td>\n",
       "      <td>-75.143707</td>\n",
       "      <td>19835</td>\n",
       "      <td>1</td>\n",
       "      <td>One Way</td>\n",
       "      <td>Day Pass</td>\n",
       "      <td>electric</td>\n",
       "      <td>7</td>\n",
       "      <td>2</td>\n",
       "    </tr>\n",
       "  </tbody>\n",
       "</table>\n",
       "</div>"
      ],
      "text/plain": [
       "     trip_id  duration          start_time            end_time  start_station  \\\n",
       "0  345127322        10 2020-07-01 00:03:00 2020-07-01 00:13:00           3021   \n",
       "1  345127320       112 2020-07-01 00:06:00 2020-07-01 01:58:00           3067   \n",
       "2  345127318       111 2020-07-01 00:07:00 2020-07-01 01:58:00           3067   \n",
       "3  345127315         3 2020-07-01 00:07:00 2020-07-01 00:10:00           3187   \n",
       "4  345127313        42 2020-07-01 00:08:00 2020-07-01 00:50:00           3056   \n",
       "\n",
       "   start_lat  start_lon  end_station    end_lat    end_lon bike_id  \\\n",
       "0  39.953899 -75.169022         3051  39.967442 -75.175072   14512   \n",
       "1  39.964111 -75.199730         3104  39.966640 -75.192093   19638   \n",
       "2  39.964111 -75.199730         3104  39.966640 -75.192093   16566   \n",
       "3  39.957249 -75.172318         3168  39.951340 -75.173943   14545   \n",
       "4  39.976688 -75.158127         3017  39.980030 -75.143707   19835   \n",
       "\n",
       "   plan_duration trip_route_category passholder_type bike_type  month  \\\n",
       "0            365             One Way       Indego365  standard      7   \n",
       "1             30             One Way        Indego30  electric      7   \n",
       "2             30             One Way        Indego30  electric      7   \n",
       "3             30             One Way        Indego30  standard      7   \n",
       "4              1             One Way        Day Pass  electric      7   \n",
       "\n",
       "   day_of_week  \n",
       "0            2  \n",
       "1            2  \n",
       "2            2  \n",
       "3            2  \n",
       "4            2  "
      ]
     },
     "execution_count": 8,
     "metadata": {},
     "output_type": "execute_result"
    }
   ],
   "source": [
    "df['start_time'] = pd.to_datetime(df['start_time'])\n",
    "df['end_time'] = pd.to_datetime(df['end_time'])\n",
    "df['month'] = df['start_time'].dt.month\n",
    "df['day_of_week'] = df['start_time'].dt.weekday\n",
    "\n",
    "df.head()"
   ]
  },
  {
   "cell_type": "code",
   "execution_count": 9,
   "metadata": {},
   "outputs": [],
   "source": [
    "days = ['Sat', 'Sun', 'Mon', 'Tue', 'Wed', 'Thu', 'Fri']\n",
    "weekday= df['day_of_week']\n",
    "day_names=[]\n",
    "for i in weekday:\n",
    "    day_names.append(days[i])\n",
    "df['day_of_week'] = day_names\n"
   ]
  },
  {
   "cell_type": "code",
   "execution_count": 10,
   "metadata": {},
   "outputs": [],
   "source": [
    "df.columns = df.columns.str.replace('_', ' ')\n",
    "df['duration (minutes)'] = df.duration\n",
    "df = df.drop(['duration'], axis=1)"
   ]
  },
  {
   "cell_type": "code",
   "execution_count": 11,
   "metadata": {},
   "outputs": [
    {
     "data": {
      "text/html": [
       "<div>\n",
       "<style scoped>\n",
       "    .dataframe tbody tr th:only-of-type {\n",
       "        vertical-align: middle;\n",
       "    }\n",
       "\n",
       "    .dataframe tbody tr th {\n",
       "        vertical-align: top;\n",
       "    }\n",
       "\n",
       "    .dataframe thead th {\n",
       "        text-align: right;\n",
       "    }\n",
       "</style>\n",
       "<table border=\"1\" class=\"dataframe\">\n",
       "  <thead>\n",
       "    <tr style=\"text-align: right;\">\n",
       "      <th></th>\n",
       "      <th>trip id</th>\n",
       "      <th>start time</th>\n",
       "      <th>end time</th>\n",
       "      <th>start station</th>\n",
       "      <th>start lat</th>\n",
       "      <th>start lon</th>\n",
       "      <th>end station</th>\n",
       "      <th>end lat</th>\n",
       "      <th>end lon</th>\n",
       "      <th>bike id</th>\n",
       "      <th>plan duration</th>\n",
       "      <th>trip route category</th>\n",
       "      <th>passholder type</th>\n",
       "      <th>bike type</th>\n",
       "      <th>month</th>\n",
       "      <th>day of week</th>\n",
       "      <th>duration (minutes)</th>\n",
       "    </tr>\n",
       "  </thead>\n",
       "  <tbody>\n",
       "    <tr>\n",
       "      <th>0</th>\n",
       "      <td>345127322</td>\n",
       "      <td>2020-07-01 00:03:00</td>\n",
       "      <td>2020-07-01 00:13:00</td>\n",
       "      <td>3021</td>\n",
       "      <td>39.953899</td>\n",
       "      <td>-75.169022</td>\n",
       "      <td>3051</td>\n",
       "      <td>39.967442</td>\n",
       "      <td>-75.175072</td>\n",
       "      <td>14512</td>\n",
       "      <td>365</td>\n",
       "      <td>One Way</td>\n",
       "      <td>Indego365</td>\n",
       "      <td>standard</td>\n",
       "      <td>7</td>\n",
       "      <td>Mon</td>\n",
       "      <td>10</td>\n",
       "    </tr>\n",
       "    <tr>\n",
       "      <th>1</th>\n",
       "      <td>345127320</td>\n",
       "      <td>2020-07-01 00:06:00</td>\n",
       "      <td>2020-07-01 01:58:00</td>\n",
       "      <td>3067</td>\n",
       "      <td>39.964111</td>\n",
       "      <td>-75.199730</td>\n",
       "      <td>3104</td>\n",
       "      <td>39.966640</td>\n",
       "      <td>-75.192093</td>\n",
       "      <td>19638</td>\n",
       "      <td>30</td>\n",
       "      <td>One Way</td>\n",
       "      <td>Indego30</td>\n",
       "      <td>electric</td>\n",
       "      <td>7</td>\n",
       "      <td>Mon</td>\n",
       "      <td>112</td>\n",
       "    </tr>\n",
       "    <tr>\n",
       "      <th>2</th>\n",
       "      <td>345127318</td>\n",
       "      <td>2020-07-01 00:07:00</td>\n",
       "      <td>2020-07-01 01:58:00</td>\n",
       "      <td>3067</td>\n",
       "      <td>39.964111</td>\n",
       "      <td>-75.199730</td>\n",
       "      <td>3104</td>\n",
       "      <td>39.966640</td>\n",
       "      <td>-75.192093</td>\n",
       "      <td>16566</td>\n",
       "      <td>30</td>\n",
       "      <td>One Way</td>\n",
       "      <td>Indego30</td>\n",
       "      <td>electric</td>\n",
       "      <td>7</td>\n",
       "      <td>Mon</td>\n",
       "      <td>111</td>\n",
       "    </tr>\n",
       "    <tr>\n",
       "      <th>3</th>\n",
       "      <td>345127315</td>\n",
       "      <td>2020-07-01 00:07:00</td>\n",
       "      <td>2020-07-01 00:10:00</td>\n",
       "      <td>3187</td>\n",
       "      <td>39.957249</td>\n",
       "      <td>-75.172318</td>\n",
       "      <td>3168</td>\n",
       "      <td>39.951340</td>\n",
       "      <td>-75.173943</td>\n",
       "      <td>14545</td>\n",
       "      <td>30</td>\n",
       "      <td>One Way</td>\n",
       "      <td>Indego30</td>\n",
       "      <td>standard</td>\n",
       "      <td>7</td>\n",
       "      <td>Mon</td>\n",
       "      <td>3</td>\n",
       "    </tr>\n",
       "    <tr>\n",
       "      <th>4</th>\n",
       "      <td>345127313</td>\n",
       "      <td>2020-07-01 00:08:00</td>\n",
       "      <td>2020-07-01 00:50:00</td>\n",
       "      <td>3056</td>\n",
       "      <td>39.976688</td>\n",
       "      <td>-75.158127</td>\n",
       "      <td>3017</td>\n",
       "      <td>39.980030</td>\n",
       "      <td>-75.143707</td>\n",
       "      <td>19835</td>\n",
       "      <td>1</td>\n",
       "      <td>One Way</td>\n",
       "      <td>Day Pass</td>\n",
       "      <td>electric</td>\n",
       "      <td>7</td>\n",
       "      <td>Mon</td>\n",
       "      <td>42</td>\n",
       "    </tr>\n",
       "    <tr>\n",
       "      <th>...</th>\n",
       "      <td>...</td>\n",
       "      <td>...</td>\n",
       "      <td>...</td>\n",
       "      <td>...</td>\n",
       "      <td>...</td>\n",
       "      <td>...</td>\n",
       "      <td>...</td>\n",
       "      <td>...</td>\n",
       "      <td>...</td>\n",
       "      <td>...</td>\n",
       "      <td>...</td>\n",
       "      <td>...</td>\n",
       "      <td>...</td>\n",
       "      <td>...</td>\n",
       "      <td>...</td>\n",
       "      <td>...</td>\n",
       "      <td>...</td>\n",
       "    </tr>\n",
       "    <tr>\n",
       "      <th>269979</th>\n",
       "      <td>356404374</td>\n",
       "      <td>2020-09-30 23:52:00</td>\n",
       "      <td>2020-09-30 23:59:00</td>\n",
       "      <td>3167</td>\n",
       "      <td>39.950249</td>\n",
       "      <td>-75.160278</td>\n",
       "      <td>3154</td>\n",
       "      <td>39.959240</td>\n",
       "      <td>-75.158211</td>\n",
       "      <td>3372</td>\n",
       "      <td>30</td>\n",
       "      <td>One Way</td>\n",
       "      <td>Indego30</td>\n",
       "      <td>standard</td>\n",
       "      <td>9</td>\n",
       "      <td>Mon</td>\n",
       "      <td>7</td>\n",
       "    </tr>\n",
       "    <tr>\n",
       "      <th>269980</th>\n",
       "      <td>356404373</td>\n",
       "      <td>2020-09-30 23:52:00</td>\n",
       "      <td>2020-09-30 23:56:00</td>\n",
       "      <td>3045</td>\n",
       "      <td>39.947922</td>\n",
       "      <td>-75.162369</td>\n",
       "      <td>3190</td>\n",
       "      <td>39.948921</td>\n",
       "      <td>-75.169907</td>\n",
       "      <td>14528</td>\n",
       "      <td>30</td>\n",
       "      <td>One Way</td>\n",
       "      <td>Indego30</td>\n",
       "      <td>standard</td>\n",
       "      <td>9</td>\n",
       "      <td>Mon</td>\n",
       "      <td>4</td>\n",
       "    </tr>\n",
       "    <tr>\n",
       "      <th>269981</th>\n",
       "      <td>356404746</td>\n",
       "      <td>2020-09-30 23:56:00</td>\n",
       "      <td>2020-10-01 00:02:00</td>\n",
       "      <td>3125</td>\n",
       "      <td>39.943909</td>\n",
       "      <td>-75.167351</td>\n",
       "      <td>3045</td>\n",
       "      <td>39.947922</td>\n",
       "      <td>-75.162369</td>\n",
       "      <td>11878</td>\n",
       "      <td>30</td>\n",
       "      <td>One Way</td>\n",
       "      <td>Indego30</td>\n",
       "      <td>standard</td>\n",
       "      <td>9</td>\n",
       "      <td>Mon</td>\n",
       "      <td>6</td>\n",
       "    </tr>\n",
       "    <tr>\n",
       "      <th>269982</th>\n",
       "      <td>356404744</td>\n",
       "      <td>2020-09-30 23:57:00</td>\n",
       "      <td>2020-10-01 00:02:00</td>\n",
       "      <td>3125</td>\n",
       "      <td>39.943909</td>\n",
       "      <td>-75.167351</td>\n",
       "      <td>3045</td>\n",
       "      <td>39.947922</td>\n",
       "      <td>-75.162369</td>\n",
       "      <td>17177</td>\n",
       "      <td>30</td>\n",
       "      <td>One Way</td>\n",
       "      <td>Indego30</td>\n",
       "      <td>electric</td>\n",
       "      <td>9</td>\n",
       "      <td>Mon</td>\n",
       "      <td>5</td>\n",
       "    </tr>\n",
       "    <tr>\n",
       "      <th>269984</th>\n",
       "      <td>356404742</td>\n",
       "      <td>2020-09-30 23:59:00</td>\n",
       "      <td>2020-10-01 00:05:00</td>\n",
       "      <td>3074</td>\n",
       "      <td>39.955109</td>\n",
       "      <td>-75.209869</td>\n",
       "      <td>3159</td>\n",
       "      <td>39.951210</td>\n",
       "      <td>-75.199623</td>\n",
       "      <td>5167</td>\n",
       "      <td>30</td>\n",
       "      <td>One Way</td>\n",
       "      <td>Indego30</td>\n",
       "      <td>standard</td>\n",
       "      <td>9</td>\n",
       "      <td>Mon</td>\n",
       "      <td>6</td>\n",
       "    </tr>\n",
       "  </tbody>\n",
       "</table>\n",
       "<p>264363 rows × 17 columns</p>\n",
       "</div>"
      ],
      "text/plain": [
       "          trip id          start time            end time  start station  \\\n",
       "0       345127322 2020-07-01 00:03:00 2020-07-01 00:13:00           3021   \n",
       "1       345127320 2020-07-01 00:06:00 2020-07-01 01:58:00           3067   \n",
       "2       345127318 2020-07-01 00:07:00 2020-07-01 01:58:00           3067   \n",
       "3       345127315 2020-07-01 00:07:00 2020-07-01 00:10:00           3187   \n",
       "4       345127313 2020-07-01 00:08:00 2020-07-01 00:50:00           3056   \n",
       "...           ...                 ...                 ...            ...   \n",
       "269979  356404374 2020-09-30 23:52:00 2020-09-30 23:59:00           3167   \n",
       "269980  356404373 2020-09-30 23:52:00 2020-09-30 23:56:00           3045   \n",
       "269981  356404746 2020-09-30 23:56:00 2020-10-01 00:02:00           3125   \n",
       "269982  356404744 2020-09-30 23:57:00 2020-10-01 00:02:00           3125   \n",
       "269984  356404742 2020-09-30 23:59:00 2020-10-01 00:05:00           3074   \n",
       "\n",
       "        start lat  start lon  end station    end lat    end lon bike id  \\\n",
       "0       39.953899 -75.169022         3051  39.967442 -75.175072   14512   \n",
       "1       39.964111 -75.199730         3104  39.966640 -75.192093   19638   \n",
       "2       39.964111 -75.199730         3104  39.966640 -75.192093   16566   \n",
       "3       39.957249 -75.172318         3168  39.951340 -75.173943   14545   \n",
       "4       39.976688 -75.158127         3017  39.980030 -75.143707   19835   \n",
       "...           ...        ...          ...        ...        ...     ...   \n",
       "269979  39.950249 -75.160278         3154  39.959240 -75.158211    3372   \n",
       "269980  39.947922 -75.162369         3190  39.948921 -75.169907   14528   \n",
       "269981  39.943909 -75.167351         3045  39.947922 -75.162369   11878   \n",
       "269982  39.943909 -75.167351         3045  39.947922 -75.162369   17177   \n",
       "269984  39.955109 -75.209869         3159  39.951210 -75.199623    5167   \n",
       "\n",
       "        plan duration trip route category passholder type bike type  month  \\\n",
       "0                 365             One Way       Indego365  standard      7   \n",
       "1                  30             One Way        Indego30  electric      7   \n",
       "2                  30             One Way        Indego30  electric      7   \n",
       "3                  30             One Way        Indego30  standard      7   \n",
       "4                   1             One Way        Day Pass  electric      7   \n",
       "...               ...                 ...             ...       ...    ...   \n",
       "269979             30             One Way        Indego30  standard      9   \n",
       "269980             30             One Way        Indego30  standard      9   \n",
       "269981             30             One Way        Indego30  standard      9   \n",
       "269982             30             One Way        Indego30  electric      9   \n",
       "269984             30             One Way        Indego30  standard      9   \n",
       "\n",
       "       day of week  duration (minutes)  \n",
       "0              Mon                  10  \n",
       "1              Mon                 112  \n",
       "2              Mon                 111  \n",
       "3              Mon                   3  \n",
       "4              Mon                  42  \n",
       "...            ...                 ...  \n",
       "269979         Mon                   7  \n",
       "269980         Mon                   4  \n",
       "269981         Mon                   6  \n",
       "269982         Mon                   5  \n",
       "269984         Mon                   6  \n",
       "\n",
       "[264363 rows x 17 columns]"
      ]
     },
     "execution_count": 11,
     "metadata": {},
     "output_type": "execute_result"
    }
   ],
   "source": [
    "df = df.dropna()\n",
    "df"
   ]
  },
  {
   "cell_type": "markdown",
   "metadata": {},
   "source": [
    "## Univariate Exploration\n",
    "\n",
    "> In this section, investigate distributions of individual variables. If\n",
    "you see unusual points or outliers, take a deeper look to clean things up\n",
    "and prepare yourself to look at relationships between variables."
   ]
  },
  {
   "cell_type": "markdown",
   "metadata": {},
   "source": [
    "First: Explore the duration variable:"
   ]
  },
  {
   "cell_type": "code",
   "execution_count": 12,
   "metadata": {},
   "outputs": [
    {
     "data": {
      "image/png": "[encoded data removed]",
      "text/plain": [
       "<Figure size 576x360 with 1 Axes>"
      ]
     },
     "metadata": {
      "needs_background": "light"
     },
     "output_type": "display_data"
    }
   ],
   "source": [
    "# start with a standard-scaled plot\n",
    "binsize = 5\n",
    "bins = np.arange(0, df['duration (minutes)'].max()+binsize, binsize)\n",
    "\n",
    "plt.figure(figsize=[8, 5])\n",
    "\n",
    "plt.hist(data = df, x = 'duration (minutes)' , bins = bins)\n",
    "plt.xlabel('duration (minutes)')\n",
    "plt.title('histogram for the duraion variable')\n",
    "plt.xlim(0, 150)\n",
    "plt.show()\n"
   ]
  },
  {
   "cell_type": "code",
   "execution_count": 13,
   "metadata": {},
   "outputs": [
    {
     "data": {
      "image/png": "[encoded data removed]",
      "text/plain": [
       "<Figure size 576x360 with 1 Axes>"
      ]
     },
     "metadata": {
      "needs_background": "light"
     },
     "output_type": "display_data"
    }
   ],
   "source": [
    "log_binsize = 0.1\n",
    "bins = 10 ** np.arange(0, np.log10(df['duration (minutes)'].max())+log_binsize, log_binsize)\n",
    "\n",
    "plt.figure(figsize=[8, 5])\n",
    "plt.hist(data = df, x = 'duration (minutes)', bins = bins)\n",
    "plt.xscale('log')\n",
    "plt.xlabel('duration (minutes)')\n",
    "plt.ylabel('count')\n",
    "plt.title('histogram for the duraion variable (log scale)')\n",
    "plt.xticks(ticks= [0.3, 1, 3, 10, 30, 100, 300, 1000], labels=['0.3', '1', '3', '10', '30', '100', '300', '1000'])\n",
    "\n",
    "plt.show()"
   ]
  },
  {
   "cell_type": "markdown",
   "metadata": {},
   "source": [
    "In the first graph, Duration  has a long-tailed right-skewed distribution, however when, plotted on a log scale, it showed a normal logaritmic distribution, with a lot bars in the high end, and fewer bars on the low price end, but one of them shows a significant frequency between 4-5 minutes.\n"
   ]
  },
  {
   "cell_type": "markdown",
   "metadata": {},
   "source": [
    "Plotting start time:"
   ]
  },
  {
   "cell_type": "code",
   "execution_count": 14,
   "metadata": {
    "scrolled": true
   },
   "outputs": [
    {
     "data": {
      "image/png": "[encoded data removed]",
      "text/plain": [
       "<Figure size 432x288 with 1 Axes>"
      ]
     },
     "metadata": {
      "needs_background": "light"
     },
     "output_type": "display_data"
    }
   ],
   "source": [
    "#plotting by month\n",
    "base_color = sb.color_palette()[0]\n",
    "sb.countplot(data=df, x='month', color=base_color)\n",
    "plt.title('count plot for the month variable');\n"
   ]
  },
  {
   "cell_type": "markdown",
   "metadata": {},
   "source": [
    "The bar chart for frequency per month showed uniform distribution for the bike rides among the 3 months of the quarter."
   ]
  },
  {
   "cell_type": "code",
   "execution_count": 15,
   "metadata": {},
   "outputs": [
    {
     "data": {
      "image/png": "[encoded data removed]",
      "text/plain": [
       "<Figure size 432x288 with 1 Axes>"
      ]
     },
     "metadata": {
      "needs_background": "light"
     },
     "output_type": "display_data"
    }
   ],
   "source": [
    "#plotting by weekday\n",
    "base_color = sb.color_palette()[0]\n",
    "sb.countplot(data=df, x='day of week', color=base_color)\n",
    "days = ['Saturday', 'Sunday', 'Monday', 'Tuesday', 'Wednesday', 'Thursday', 'Friday']\n",
    "plt.xlabel('Week day')\n",
    "plt.xticks(ticks= np.arange(7), labels=days, rotation=90);\n",
    "plt.title('count plot for the week day variable');\n"
   ]
  },
  {
   "cell_type": "markdown",
   "metadata": {},
   "source": [
    "The bar chart for frequency per week day showed that no. of rides was very close for all days, and Thursday had the highest rides with a slight increase over the other days. \n"
   ]
  },
  {
   "cell_type": "markdown",
   "metadata": {},
   "source": [
    "Plotting by bike_type, passholder_type and trip_route_category."
   ]
  },
  {
   "cell_type": "code",
   "execution_count": 16,
   "metadata": {},
   "outputs": [
    {
     "data": {
      "image/png": "[encoded data removed]",
      "text/plain": [
       "<Figure size 1080x360 with 3 Axes>"
      ]
     },
     "metadata": {
      "needs_background": "light"
     },
     "output_type": "display_data"
    }
   ],
   "source": [
    "\n",
    "\n",
    "plt.figure(figsize = [15, 5])\n",
    "plt.subplot(1, 3, 1)\n",
    "\n",
    "freq_b = df['bike type'].value_counts() / len(df)\n",
    "indx = [0,1]\n",
    "plt.bar(indx, freq_b*100)\n",
    "plt.ylabel('%')\n",
    "plt.title('Relative fequencies of the bike types')\n",
    "plt.xticks(indx, freq_b.index)\n",
    "plt.xlabel('Bike type')\n",
    "\n",
    "\n",
    "\n",
    "plt.subplot(1, 3, 2)\n",
    "freq_p = df['passholder type'].value_counts().sort_values(ascending=False) / len(df)\n",
    "indx = [0,1,2]\n",
    "plt.bar(indx, freq_p*100)\n",
    "plt.ylabel('%')\n",
    "plt.title('Relative fequencies of the passholder types')\n",
    "plt.xticks(indx, freq_p.index)\n",
    "plt.xlabel('Pass holder type')\n",
    "\n",
    "\n",
    "\n",
    "\n",
    "\n",
    "plt.subplot(1, 3, 3)\n",
    "freq_m = df['trip route category'].value_counts().sort_values(ascending=False) / len(df)\n",
    "indx = [0,1]\n",
    "plt.bar(indx, freq_m*100)\n",
    "plt.ylabel('%')\n",
    "plt.title('Relative fequencies of the trip route categories')\n",
    "plt.xticks(indx, freq_m.index)\n",
    "plt.xlabel('Trip route type');\n",
    "\n"
   ]
  },
  {
   "cell_type": "markdown",
   "metadata": {},
   "source": [
    "The analysis showed that:\n",
    "- about 80% of the trips are done with strandard bike type, and the remaining use electric bikes.\n",
    "- Indego30 is the most frequent pass holder type in all trips.\n",
    "- Over 80% of the trips are One way route type. "
   ]
  },
  {
   "cell_type": "markdown",
   "metadata": {},
   "source": [
    "### Discuss the distribution(s) of your variable(s) of interest. Were there any unusual points? Did you need to perform any transformations?\n",
    "\n",
    "> The distribution of the duration variable was a littel bit odd, with trips taking only 1-2 minutes and some trips taking over 1000 minutes, there a logaritmic transformation of the data was needed.\n",
    "\n",
    "> The month and weekday variables had an almost uniform distribution.\n",
    "\n",
    "> The distribution of the bike type, pass holder and trip route variables showed:\n",
    "- about 80% of the trips are done with strandard bike type, and the remaining use electric bikes.\n",
    "- Indego30 is the most frequent pass holder type in all trips.\n",
    "- Over 80% of the trips are One way route type.\n",
    "\n",
    "### Of the features you investigated, were there any unusual distributions? Did you perform any operations on the data to tidy, adjust, or change the form of the data? If so, why did you do this?\n",
    "\n",
    "> Yes, Duration variable has a long-tailed right-skewed distribution, however when, plotted on a log scale, it showed a normal logaritmic distribution, with a lot bars in the high end, and fewer bars on the low price end, but one of them shows a significant frequency between 4-5 minutes."
   ]
  },
  {
   "cell_type": "markdown",
   "metadata": {},
   "source": [
    "## Bivariate Exploration\n",
    "\n",
    "> In this section, investigate relationships between pairs of variables in your\n",
    "data. Make sure the variables that you cover here have been introduced in some\n",
    "fashion in the previous section (univariate exploration)."
   ]
  },
  {
   "cell_type": "markdown",
   "metadata": {},
   "source": [
    "First of all, we dovide the variables into numerical and catagorical data."
   ]
  },
  {
   "cell_type": "code",
   "execution_count": 17,
   "metadata": {},
   "outputs": [],
   "source": [
    "numeric_vars = ['duration (minutes)']\n",
    "categoric_vars = ['month', 'day of week',  'bike type', 'passholder type', 'trip route category']"
   ]
  },
  {
   "cell_type": "markdown",
   "metadata": {},
   "source": [
    "1- Box grid plots are used to inetigate the relationship between duration and the catagorical variables."
   ]
  },
  {
   "cell_type": "code",
   "execution_count": 18,
   "metadata": {},
   "outputs": [
    {
     "name": "stderr",
     "output_type": "stream",
     "text": [
      "C:\\Users\\Laptop Shop\\anaconda3\\lib\\site-packages\\seaborn\\axisgrid.py:1264: UserWarning: The `size` parameter has been renamed to `height`; please update your code.\n",
      "  warnings.warn(UserWarning(msg))\n"
     ]
    },
    {
     "data": {
      "text/plain": [
       "<Figure size 14400x1440 with 0 Axes>"
      ]
     },
     "metadata": {},
     "output_type": "display_data"
    },
    {
     "data": {
      "image/png": "[encoded data removed]",
      "text/plain": [
       "<Figure size 1620x216 with 5 Axes>"
      ]
     },
     "metadata": {
      "needs_background": "light"
     },
     "output_type": "display_data"
    }
   ],
   "source": [
    "\n",
    "def boxgrid(x, y, **kwargs):\n",
    "    \"\"\" Quick hack for creating box plots with seaborn's PairGrid. \"\"\"\n",
    "    default_color = sb.color_palette()[0]\n",
    "    sb.boxplot(x, y, color = default_color)\n",
    "\n",
    "plt.figure(figsize = [200, 20])\n",
    "g = sb.PairGrid(data = df, y_vars = ['duration (minutes)'], x_vars = categoric_vars,\n",
    "                size = 3, aspect = 1.5)\n",
    "\n",
    "fig = g.map(boxgrid)\n",
    "\n",
    "    \n",
    "plt.yticks(ticks= [0.3, 1, 3, 10, 30, 100, 300, 1000], labels=['0.3', '1', '3', '10', '30', '100', '300', '1000'])\n",
    "plt.yscale('log')\n",
    "\n",
    "plt.show();"
   ]
  },
  {
   "cell_type": "markdown",
   "metadata": {},
   "source": [
    "- The average duration of round trips is higher than the average duration of one way trips.\n",
    "- The average duration did not have a significant variations for different months, different week days or bike types.\n",
    "- The average duration were the highest in Day pass holder, followed by Indego30 pass holder followed by indego365."
   ]
  },
  {
   "cell_type": "markdown",
   "metadata": {},
   "source": [
    "2- Clustered bar charts plots are used to inetigate the relationship between the catagorical variables."
   ]
  },
  {
   "cell_type": "code",
   "execution_count": 19,
   "metadata": {
    "scrolled": true
   },
   "outputs": [
    {
     "data": {
      "image/png": "[encoded data removed]",
      "text/plain": [
       "<Figure size 576x576 with 4 Axes>"
      ]
     },
     "metadata": {
      "needs_background": "light"
     },
     "output_type": "display_data"
    }
   ],
   "source": [
    "# since there's only three subplots to create, using the full data should be fine.\n",
    "plt.figure(figsize = [8, 8])\n",
    "plt.title('')\n",
    "categoric_vars = ['month', 'day of week',  'bike type', 'passholder type', 'trip route category']\n",
    "\n",
    "\n",
    "# subplot 1: month vs trip route\n",
    "plt.subplot(4, 1, 1)\n",
    "sb.countplot(data = df, x = 'month', hue = 'trip route category', palette = 'Blues')\n",
    "\n",
    "# subplot 2: month vs. bike type\n",
    "ax = plt.subplot(4, 1, 2)\n",
    "sb.countplot(data = df, x = 'month', hue = 'bike type', palette = 'Blues')\n",
    "ax.legend(ncol = 2) # re-arrange legend to reduce overlapping\n",
    "\n",
    "# subplot 3: month vs. daud of the week\n",
    "ax = plt.subplot(4, 1, 3)\n",
    "sb.countplot(data = df, x = 'month', hue = 'day of week', palette = 'Greens')\n",
    "ax.legend(loc = 1, ncol = 2) # re-arrange legend to remove overlapping\n",
    "\n",
    "# subplot 4: month vs passholder_type\n",
    "ax = plt.subplot(4, 1, 4)\n",
    "sb.countplot(data = df, x = 'month', hue = 'passholder type', palette = 'Greens')\n",
    "ax.legend(loc = 1, ncol = 2) # re-arrange legend to remove overlapping\n",
    "\n",
    "\n",
    "plt.show()\n"
   ]
  },
  {
   "cell_type": "markdown",
   "metadata": {},
   "source": [
    "The distribtion of the four variables: 'day_of_week',  'bike_type', 'passholder_type', 'trip_route_category' did not show variation between the 3 months"
   ]
  },
  {
   "cell_type": "markdown",
   "metadata": {},
   "source": [
    "3- plotting heat map between the latitude and longitude of the station where the trips start and ends to find out popular start and end areas among bike riders."
   ]
  },
  {
   "cell_type": "code",
   "execution_count": 28,
   "metadata": {
    "scrolled": true
   },
   "outputs": [
    {
     "data": {
      "image/png": "[encoded data removed]",
      "text/plain": [
       "<Figure size 1296x432 with 3 Axes>"
      ]
     },
     "metadata": {
      "needs_background": "light"
     },
     "output_type": "display_data"
    }
   ],
   "source": [
    "plt.figure(figsize = [18, 6])\n",
    "\n",
    "plt.subplot(1, 2, 1)\n",
    "plt.hist2d(data = df, x = 'start lat', y = 'start lon', cmin=0.5, cmap='viridis_r')\n",
    "plt.title('Distribution of Latitudes vs longitudes for start stations')\n",
    "plt.xlabel('Start Latitude')\n",
    "plt.ylabel('Start longitude');\n",
    "\n",
    "# PLOT ON RIGHT\n",
    "plt.subplot(1, 2, 2)\n",
    "plt.hist2d(data = df, x = 'end lat', y = 'end lon', cmin=0.5, cmap='viridis_r')\n",
    "plt.colorbar()\n",
    "plt.title('Distribution of Latitude vs longitude for end stations')\n",
    "plt.xlabel('End Latitude')\n",
    "plt.ylabel('End longitude');\n"
   ]
  },
  {
   "cell_type": "markdown",
   "metadata": {},
   "source": [
    "The two graphs for popoular start locations and popular end locations look identical which means that there are areas with higher numbers of bike riders where the company should increase the number of bikes."
   ]
  },
  {
   "cell_type": "markdown",
   "metadata": {},
   "source": [
    "### Talk about some of the relationships you observed in this part of the investigation. How did the feature(s) of interest vary with other features in the dataset?\n",
    "\n",
    "> The average duration was higher for round trips campared with one way trips.\n",
    "> The average duration were the highest in Day pass holder, followed by Indego30 pass holder followed by indego365.\n",
    "> The average duration showed no effect for variation of months, week days or bike types.\n",
    "\n",
    "### Did you observe any interesting relationships between the other features (not the main feature(s) of interest)?\n",
    "\n",
    "> The two graphs for popoular start locations and popular end locations looked identical which means that popular start stations are also popular end stations."
   ]
  },
  {
   "cell_type": "markdown",
   "metadata": {},
   "source": [
    "## Multivariate Exploration\n",
    "\n",
    ">Here, I would like to investigate if the distribution of start and end locations vary according to the different catagories of 'month', 'day_of_week',  'bike_type', 'passholder_type', 'trip_route_category'. \n"
   ]
  },
  {
   "cell_type": "code",
   "execution_count": 21,
   "metadata": {},
   "outputs": [],
   "source": [
    "def hist2dgrid(x, y, **kwargs):\n",
    "    \"\"\" Quick hack for creating heat maps with seaborn's PairGrid. \"\"\"\n",
    "    palette = kwargs.pop('color')\n",
    "    plt.hist2d(x, y, cmap = palette, cmin = 0.5)"
   ]
  },
  {
   "cell_type": "code",
   "execution_count": 31,
   "metadata": {},
   "outputs": [
    {
     "data": {
      "text/plain": [
       "<seaborn.axisgrid.FacetGrid at 0x24829371d48>"
      ]
     },
     "execution_count": 31,
     "metadata": {},
     "output_type": "execute_result"
    },
    {
     "data": {
      "image/png": "[encoded data removed]",
      "text/plain": [
       "<Figure size 648x216 with 3 Axes>"
      ]
     },
     "metadata": {
      "needs_background": "light"
     },
     "output_type": "display_data"
    }
   ],
   "source": [
    "# create faceted heat maps on levels of month variable\n",
    "g = sb.FacetGrid(data = df, col = 'month', col_wrap = 3, size = 3)\n",
    "g.map(hist2dgrid, 'start lat', 'start lon', color = 'inferno_r')\n",
    "g.set_xlabels('Start Latitude')\n",
    "g.set_ylabels('Srart Longitude')\n",
    "\n"
   ]
  },
  {
   "cell_type": "markdown",
   "metadata": {},
   "source": [
    "There was no signicafant change in trips start locations by month "
   ]
  },
  {
   "cell_type": "code",
   "execution_count": 32,
   "metadata": {},
   "outputs": [
    {
     "data": {
      "text/plain": [
       "<seaborn.axisgrid.FacetGrid at 0x248185f7b48>"
      ]
     },
     "execution_count": 32,
     "metadata": {},
     "output_type": "execute_result"
    },
    {
     "data": {
      "image/png": "[encoded data removed]",
      "text/plain": [
       "<Figure size 648x648 with 7 Axes>"
      ]
     },
     "metadata": {
      "needs_background": "light"
     },
     "output_type": "display_data"
    }
   ],
   "source": [
    "# create faceted heat maps on levels of week day variable\n",
    "g = sb.FacetGrid(data = df, col = 'day of week', col_wrap = 3, size = 3)\n",
    "g.map(hist2dgrid, 'start lat', 'start lon', color = 'inferno_r')\n",
    "g.set_xlabels('Start Latitude')\n",
    "g.set_ylabels('Srart Longitude')\n"
   ]
  },
  {
   "cell_type": "markdown",
   "metadata": {},
   "source": [
    "The most popular start location shifted In Thursday and Friday, but other than that there was no significant change."
   ]
  },
  {
   "cell_type": "code",
   "execution_count": 24,
   "metadata": {},
   "outputs": [
    {
     "data": {
      "text/plain": [
       "<seaborn.axisgrid.FacetGrid at 0x24818399588>"
      ]
     },
     "execution_count": 24,
     "metadata": {},
     "output_type": "execute_result"
    },
    {
     "data": {
      "image/png": "[encoded data removed]",
      "text/plain": [
       "<Figure size 648x216 with 2 Axes>"
      ]
     },
     "metadata": {
      "needs_background": "light"
     },
     "output_type": "display_data"
    }
   ],
   "source": [
    "g = sb.FacetGrid(data = df, col = 'bike type', col_wrap = 3, size = 3)\n",
    "g.map(hist2dgrid, 'start lat', 'start lon', color = 'inferno_r')\n",
    "g.set_xlabels('Start Latitude')\n",
    "g.set_ylabels('Srart Longitude')"
   ]
  },
  {
   "cell_type": "markdown",
   "metadata": {},
   "source": [
    "The most frequent start locations showed little variation with bike type"
   ]
  },
  {
   "cell_type": "code",
   "execution_count": 25,
   "metadata": {},
   "outputs": [
    {
     "data": {
      "text/plain": [
       "<seaborn.axisgrid.FacetGrid at 0x2481836d048>"
      ]
     },
     "execution_count": 25,
     "metadata": {},
     "output_type": "execute_result"
    },
    {
     "data": {
      "image/png": "[encoded data removed]",
      "text/plain": [
       "<Figure size 648x216 with 3 Axes>"
      ]
     },
     "metadata": {
      "needs_background": "light"
     },
     "output_type": "display_data"
    }
   ],
   "source": [
    "g = sb.FacetGrid(data = df, col = 'passholder type', col_wrap = 3, size = 3)\n",
    "g.map(hist2dgrid, 'start lat', 'start lon', color = 'inferno_r')\n",
    "g.set_xlabels('Start Latitude')\n",
    "g.set_ylabels('Srart Longitude')"
   ]
  },
  {
   "cell_type": "markdown",
   "metadata": {},
   "source": [
    "There was a significant variation in start location according to the type of pass holder wether it is a daily, montly or yearly subscription"
   ]
  },
  {
   "cell_type": "code",
   "execution_count": 33,
   "metadata": {
    "scrolled": true
   },
   "outputs": [
    {
     "data": {
      "text/plain": [
       "<seaborn.axisgrid.FacetGrid at 0x24818980c08>"
      ]
     },
     "execution_count": 33,
     "metadata": {},
     "output_type": "execute_result"
    },
    {
     "data": {
      "image/png": "[encoded data removed]",
      "text/plain": [
       "<Figure size 648x216 with 2 Axes>"
      ]
     },
     "metadata": {
      "needs_background": "light"
     },
     "output_type": "display_data"
    }
   ],
   "source": [
    "g = sb.FacetGrid(data = df, col = 'trip route category', col_wrap = 3, size = 3)\n",
    "g.map(hist2dgrid, 'start lat', 'start lon', color = 'inferno_r')\n",
    "g.set_xlabels('Start Latitude')\n",
    "g.set_ylabels('Srart Longitude')"
   ]
  },
  {
   "cell_type": "markdown",
   "metadata": {},
   "source": [
    "There was a significant variation in start location according to the type of the trip."
   ]
  },
  {
   "cell_type": "markdown",
   "metadata": {},
   "source": [
    "> The average duration was higher for round trips campared with one way trips.\n",
    "> Also, the average duration were the highest in Day pass holder, followed by Indego30 pass holder followed by indego365.\n",
    "> Therefore, I will plot a box plots with the average duration on the y-axis, pass holder on the x-axis, using trip type as hue.\n",
    "\n"
   ]
  },
  {
   "cell_type": "code",
   "execution_count": 34,
   "metadata": {
    "scrolled": true
   },
   "outputs": [
    {
     "data": {
      "image/png": "[encoded data removed]",
      "text/plain": [
       "<Figure size 461.875x360 with 1 Axes>"
      ]
     },
     "metadata": {
      "needs_background": "light"
     },
     "output_type": "display_data"
    }
   ],
   "source": [
    "sb.catplot(x='passholder type', y='duration (minutes)', hue='trip route category', kind=\"box\", data=df)\n",
    "plt.yticks(ticks= [0.3, 1, 3, 10, 30, 100, 300, 1000], labels=['0.3', '1', '3', '10', '30', '100', '300', '1000'])\n",
    "plt.yscale('log')\n"
   ]
  },
  {
   "cell_type": "markdown",
   "metadata": {},
   "source": [
    "The graph showed the same trend where duration was the highest in daily subscription followed by monthly subscription, and yearly subscriper making the shortest duration averages.\n",
    "Round trips had higher trip averages than one way trips in the 3 subscription catagories."
   ]
  },
  {
   "cell_type": "markdown",
   "metadata": {},
   "source": [
    "### Talk about some of the relationships you observed in this part of the investigation. Were there features that strengthened each other in terms of looking at your feature(s) of interest?\n",
    "\n",
    "> Trip route catagory of round trip strenthened the pass holder catagory of daily pass increasing the average duration of the trip\n",
    "\n",
    "### Were there any interesting or surprising interactions between features?\n",
    "\n",
    "> Yes, the most frequent start location showed significant variation by the type of pass holder supsciption and trip type"
   ]
  },
  {
   "cell_type": "markdown",
   "metadata": {},
   "source": [
    "> At the end of your report, make sure that you export the notebook as an\n",
    "html file from the `File > Download as... > HTML` menu. Make sure you keep\n",
    "track of where the exported file goes, so you can put it in the same folder\n",
    "as this notebook for project submission. Also, make sure you remove all of\n",
    "the quote-formatted guide notes like this one before you finish your report!"
   ]
  }
 ],
 "metadata": {
  "kernelspec": {
   "display_name": "Python 3",
   "language": "python",
   "name": "python3"
  },
  "language_info": {
   "codemirror_mode": {
    "name": "ipython",
    "version": 3
   },
   "file_extension": ".py",
   "mimetype": "text/x-python",
   "name": "python",
   "nbconvert_exporter": "python",
   "pygments_lexer": "ipython3",
   "version": "3.7.6"
  }
 },
 "nbformat": 4,
 "nbformat_minor": 2
}
